{
 "cells": [
  {
   "cell_type": "markdown",
   "metadata": {},
   "source": [
    "## Feladatok:\n",
    "1. Adatbeolvasás:  \n",
    "1.1 Olvasd be az adatot egy dataframe-be, és jelenítsed meg az első 5 sorát.        \n",
    "  \n",
    "2. Adat műveletek:   \n",
    "2.1 Töröld az következő oszlopokat: ColourExtInt, CylindersinEngine, Title  \n",
    "2.2 Nézde meg hogy oszloponként hány hiányzó adat van a dataframe-ben.   \n",
    "2.3 A Location oszlop hiányzó adatait töltsed fel \"Unknown\" értékkel.    \n",
    "2.4 Töröld azokat a sorokat ahol bármelyik adat hiányzik.   \n",
    "2.5 Néhány mondatban írd le, hogy a törlésen kívül milyen más módszereket lehet használni a hiányzó adatok kezelésére.    \n",
    "2.6 Készíts egy új oszlopot Age néven. A Year oszlop segítségével számold ki az autók korát. (2023-ból vond ki az értékeket)     \n",
    "2.7 Töröld a Year oszlopot.\n",
    "  \n",
    "3. Adat vizualizáció:  \n",
    "3.1 Jelenítsd meg, hány darab autó van az egyes Age kategóriákban . Az X tengelyen szerepeljen az Age, Y tengelyen pedig az autók mennyisége.   \n",
    "3.2 Jelenítsd meg egy kör diagramon, hogy milyen arányban vannak használt és új autók az adatok között. Használd a UsedOrNew oszlopot. A diagramhoz készíts magyarázatot, melyik szelet melyik és szerepeljen rajta a százalék is.   \n",
    "\n",
    "4. Modell tanítás:  \n",
    "4.1 Konvertáld szám értékekké azon oszlopok érétkeit ahol jelenleg szöveges adat van.   \n",
    "4.2 Készíts egy X és egy y változót. X-ben szerepeljenek az autókhoz tartózó feature-ok, y-ban pedig a hozzájuk tartozó ár.   \n",
    "4.3 Bontsd fel az adathalmazt tanító és teszt részhalmazra. Az adatok 80%-a legyen tanító adat, 20%-a pedig teszt.  \n",
    "4.4 Taníts fel egy random forest-et. Használd hozzá a következő import-ot: 'from sklearn.ensemble import RandomForestRegressor'     \n",
    "4.5 A RF kívül még milyen más modelt lehetett volna használni? Hogyan kellett volna módosítani az adathalmazunkat?  \n",
    " \n",
    "5. Értékelés:   \n",
    "5.1 Értékeld a modelled teljesítményét és pontosságát.  \n",
    "5.2 Milyen lépéseket lehetne még megtenni a jobb pontosság elérése érdekében?\n",
    "\n",
    "6. Extra feladat:\n",
    "6.1 Random keresés segítségével próbálj meg javítani az elért pontosságon. Jelenítsed meg melyek lettek a legjobb parméterek és mennyivel jobb eredményt sikerült ezekkel elérni."
   ]
  },
  {
   "cell_type": "code",
   "execution_count": 21,
   "metadata": {},
   "outputs": [],
   "source": [
    "#imports\n",
    "import pandas as pd\n",
    "from sklearn.ensemble import RandomForestRegressor"
   ]
  },
  {
   "cell_type": "markdown",
   "metadata": {},
   "source": [
    "# 1. feladat\n",
    "### 1.1 feladat:"
   ]
  },
  {
   "cell_type": "code",
   "execution_count": 22,
   "metadata": {},
   "outputs": [
    {
     "name": "stdout",
     "output_type": "stream",
     "text": [
      "           Brand    Year   Model               Car/Suv  \\\n",
      "0      Ssangyong  2022.0  Rexton  Sutherland Isuzu Ute   \n",
      "1             MG  2022.0     MG3             Hatchback   \n",
      "2            BMW  2022.0    430I                 Coupe   \n",
      "3  Mercedes-Benz  2011.0    E500                 Coupe   \n",
      "4        Renault  2022.0  Arkana                   SUV   \n",
      "\n",
      "                                       Title UsedOrNew Transmission  \\\n",
      "0       2022 Ssangyong Rexton Ultimate (awd)      DEMO    Automatic   \n",
      "1  2022 MG MG3 Auto Excite (with Navigation)      USED    Automatic   \n",
      "2                      2022 BMW 430I M Sport      USED    Automatic   \n",
      "3           2011 Mercedes-Benz E500 Elegance      USED    Automatic   \n",
      "4                 2022 Renault Arkana Intens      USED    Automatic   \n",
      "\n",
      "         Engine DriveType  FuelType FuelConsumption Kilometres   ColourExtInt  \\\n",
      "0  4 cyl, 2.2 L       AWD    Diesel  8.7 L / 100 km       5595  White / Black   \n",
      "1  4 cyl, 1.5 L     Front   Premium  6.7 L / 100 km         16  Black / Black   \n",
      "2    4 cyl, 2 L      Rear   Premium  6.6 L / 100 km       8472   Grey / White   \n",
      "3  8 cyl, 5.5 L      Rear   Premium   11 L / 100 km     136517  White / Brown   \n",
      "4  4 cyl, 1.3 L     Front  Unleaded    6 L / 100 km       1035   Grey / Black   \n",
      "\n",
      "            Location CylindersinEngine   BodyType     Doors     Seats   Price  \n",
      "0     Caringbah, NSW             4 cyl        SUV   4 Doors   7 Seats   51990  \n",
      "1     Brookvale, NSW             4 cyl  Hatchback   5 Doors   5 Seats   19990  \n",
      "2      Sylvania, NSW             4 cyl      Coupe   2 Doors   4 Seats  108988  \n",
      "3  Mount Druitt, NSW             8 cyl      Coupe   2 Doors   4 Seats   32990  \n",
      "4   Castle Hill, NSW             4 cyl        SUV   4 Doors   5 Seats   34990  \n"
     ]
    }
   ],
   "source": [
    "# 1.1 Adatbeolvasás\n",
    "df = pd.read_csv(\"vehicle_prices.csv\")\n",
    "\n",
    "# Megjelenítjük az első 5 sort\n",
    "print(df.head())"
   ]
  },
  {
   "cell_type": "markdown",
   "metadata": {},
   "source": []
  },
  {
   "cell_type": "markdown",
   "metadata": {},
   "source": [
    "# 2. feladat\n",
    "### 2.1 feladat:"
   ]
  },
  {
   "cell_type": "code",
   "execution_count": 23,
   "metadata": {},
   "outputs": [
    {
     "name": "stdout",
     "output_type": "stream",
     "text": [
      "           Brand    Year   Model               Car/Suv UsedOrNew Transmission  \\\n",
      "0      Ssangyong  2022.0  Rexton  Sutherland Isuzu Ute      DEMO    Automatic   \n",
      "1             MG  2022.0     MG3             Hatchback      USED    Automatic   \n",
      "2            BMW  2022.0    430I                 Coupe      USED    Automatic   \n",
      "3  Mercedes-Benz  2011.0    E500                 Coupe      USED    Automatic   \n",
      "4        Renault  2022.0  Arkana                   SUV      USED    Automatic   \n",
      "\n",
      "         Engine DriveType  FuelType FuelConsumption Kilometres  \\\n",
      "0  4 cyl, 2.2 L       AWD    Diesel  8.7 L / 100 km       5595   \n",
      "1  4 cyl, 1.5 L     Front   Premium  6.7 L / 100 km         16   \n",
      "2    4 cyl, 2 L      Rear   Premium  6.6 L / 100 km       8472   \n",
      "3  8 cyl, 5.5 L      Rear   Premium   11 L / 100 km     136517   \n",
      "4  4 cyl, 1.3 L     Front  Unleaded    6 L / 100 km       1035   \n",
      "\n",
      "            Location   BodyType     Doors     Seats   Price  \n",
      "0     Caringbah, NSW        SUV   4 Doors   7 Seats   51990  \n",
      "1     Brookvale, NSW  Hatchback   5 Doors   5 Seats   19990  \n",
      "2      Sylvania, NSW      Coupe   2 Doors   4 Seats  108988  \n",
      "3  Mount Druitt, NSW      Coupe   2 Doors   4 Seats   32990  \n",
      "4   Castle Hill, NSW        SUV   4 Doors   5 Seats   34990  \n"
     ]
    }
   ],
   "source": [
    "#2.1 Töröld az következő oszlopokat: ColourExtInt, CylindersinEngine, Title  \n",
    "df.drop(columns=[\"ColourExtInt\", \"CylindersinEngine\", \"Title\"], inplace=True)\n",
    "print(df.head())"
   ]
  },
  {
   "cell_type": "markdown",
   "metadata": {},
   "source": [
    "### 2.2 feladat:"
   ]
  },
  {
   "cell_type": "code",
   "execution_count": 24,
   "metadata": {},
   "outputs": [
    {
     "name": "stdout",
     "output_type": "stream",
     "text": [
      "Brand                 1\n",
      "Year                  1\n",
      "Model                 1\n",
      "Car/Suv              28\n",
      "UsedOrNew             1\n",
      "Transmission          1\n",
      "Engine                1\n",
      "DriveType             1\n",
      "FuelType              1\n",
      "FuelConsumption       1\n",
      "Kilometres            1\n",
      "Location            450\n",
      "BodyType            282\n",
      "Doors              1604\n",
      "Seats              1705\n",
      "Price                 3\n",
      "dtype: int64\n"
     ]
    }
   ],
   "source": [
    "#2.2 Nézde meg hogy oszloponként hány hiányzó adat van a dataframe-ben.   \n",
    "missing_data = df.isnull().sum()\n",
    "print(missing_data)"
   ]
  },
  {
   "cell_type": "markdown",
   "metadata": {},
   "source": [
    "### 2.3 feladat:"
   ]
  },
  {
   "cell_type": "code",
   "execution_count": 39,
   "metadata": {},
   "outputs": [],
   "source": [
    "#2.3 A Location oszlop hiányzó adatait töltsed fel \"Unknown\" értékkel.    \n",
    "df[\"Location\"] = df[\"Location\"].fillna(\"Unknown\")"
   ]
  },
  {
   "cell_type": "markdown",
   "metadata": {},
   "source": [
    "### 2.4 feladat:"
   ]
  },
  {
   "cell_type": "code",
   "execution_count": 26,
   "metadata": {},
   "outputs": [],
   "source": [
    "#2.4 Töröld azokat a sorokat ahol bármelyik adat hiányzik.   \n",
    "df.dropna(inplace=True)"
   ]
  },
  {
   "cell_type": "markdown",
   "metadata": {},
   "source": [
    "### 2.5 feladat:\n",
    "2.5 Néhány mondatban írd le, hogy a törlésen kívül milyen más módszereket lehet használni a hiányzó adatok kezelésére.  2p  \n",
    "Adatimputáció: Az adatimputáció során a hiányzó értékeket más adatok alapján becsülhetjük meg. Például, numerikus adatok esetén az átlagos vagy medián értékkel helyettesíthetjük a hiányzó értékeket. Kategorikus változók esetén gyakran a leggyakoribb értéket használjuk a hiányzó értékek pótlására.\n",
    "Interpoláció: Az interpoláció során a hiányzó adatokat az ismert adatok közötti mintázatok alapján becsülhetjük meg. Ez különösen hasznos időben vagy térben változó adatok esetén.\n",
    "Statisztikai módszerek: A hiányzó adatok becslésére számos statisztikai módszer létezik, amelyek figyelembe veszik az adatok eloszlását és tulajdonságait.\n",
    "Gyengén tanított modellek: A hiányzó adatok becslésére olyan gépi tanulási modelleket is használhatunk, amelyek képesek kezelni a hiányzó adatokat, például a döntési fákat vagy a K-nearest neighbors (KNN) algoritmust."
   ]
  },
  {
   "cell_type": "markdown",
   "metadata": {},
   "source": [
    "### 2.6 feladat:"
   ]
  },
  {
   "cell_type": "code",
   "execution_count": 27,
   "metadata": {},
   "outputs": [],
   "source": [
    "#2.6 Készíts egy új oszlopot Age néven. A Year oszlop segítségével számold ki az autók korát. (2023-ból vond ki az értékeket)     \n",
    "df['Age'] = 2023 - df['Year']"
   ]
  },
  {
   "cell_type": "markdown",
   "metadata": {},
   "source": [
    "### 2.7 feladat:"
   ]
  },
  {
   "cell_type": "code",
   "execution_count": 28,
   "metadata": {},
   "outputs": [],
   "source": [
    "#2.7 Töröld a Year oszlopot.\n",
    "df.drop(columns=['Year'], inplace=True)"
   ]
  },
  {
   "cell_type": "markdown",
   "metadata": {},
   "source": [
    "# 3. feladat\n",
    "### 3.1 feladat"
   ]
  },
  {
   "cell_type": "code",
   "execution_count": 29,
   "metadata": {},
   "outputs": [
    {
     "data": {
      "image/png": "[encoded data removed]",
      "text/plain": [
       "<Figure size 1000x600 with 1 Axes>"
      ]
     },
     "metadata": {},
     "output_type": "display_data"
    }
   ],
   "source": [
    "#3.1 Jelenítsd meg, hány darab autó van az egyes Age kategóriákban . Az X tengelyen szerepeljen az Age, Y tengelyen pedig az autók mennyisége.   \n",
    "import matplotlib.pyplot as plt\n",
    "\n",
    "car_counts = df['Age'].value_counts()\n",
    "\n",
    "# Diagram kirajzolása\n",
    "plt.figure(figsize=(10, 6))\n",
    "plt.bar(car_counts.index, car_counts.values, color='skyblue')\n",
    "plt.xlabel('Kor (év)', fontsize=12)\n",
    "plt.ylabel('Autók száma', fontsize=12)\n",
    "plt.title('Autók száma az Age kategóriákban', fontsize=14)\n",
    "plt.xticks(rotation=45)\n",
    "plt.grid(axis='y', linestyle='--', alpha=0.7)\n",
    "plt.show()\n",
    "\n"
   ]
  },
  {
   "cell_type": "markdown",
   "metadata": {},
   "source": [
    "### 3.2 feladat"
   ]
  },
  {
   "cell_type": "code",
   "execution_count": 30,
   "metadata": {},
   "outputs": [
    {
     "data": {
      "image/png": "[encoded data removed]",
      "text/plain": [
       "<Figure size 800x800 with 1 Axes>"
      ]
     },
     "metadata": {},
     "output_type": "display_data"
    }
   ],
   "source": [
    "#3.2 Jelenítsd meg egy kör diagramon, hogy milyen arányban vannak használt és új autók az adatok között. Használd a UsedOrNew oszlopot. A diagramhoz készíts magyarázatot, melyik szelet melyik és szerepeljen rajta a százalék is.  \n",
    "used_new_counts = df['UsedOrNew'].value_counts()\n",
    "\n",
    "# Kör diagram létrehozása\n",
    "plt.figure(figsize=(8, 8))\n",
    "plt.pie(used_new_counts, labels=used_new_counts.index, autopct='%1.1f%%', colors=['lightgreen', 'lightblue'], startangle=90)\n",
    "plt.title('Használt és új autók aránya', fontsize=14)\n",
    "plt.axis('equal')  # Az egyenlő tengelyek érdekében\n",
    "plt.legend(loc='upper right')  # Jelmagyarázat\n",
    "plt.show()"
   ]
  },
  {
   "cell_type": "markdown",
   "metadata": {},
   "source": [
    "# 4. feladat\n",
    "### 4.1 feladat"
   ]
  },
  {
   "cell_type": "code",
   "execution_count": 31,
   "metadata": {},
   "outputs": [],
   "source": [
    "#4.1 Konvertáld szám értékekké azon oszlopok érétkeit ahol jelenleg szöveges adat van.   \n",
    "numeric_columns = [\"Price\", 'Engine', 'Kilometres']\n",
    "df[numeric_columns] = df[numeric_columns].apply(pd.to_numeric, errors='coerce')"
   ]
  },
  {
   "cell_type": "markdown",
   "metadata": {},
   "source": [
    "### 4.2 feladat"
   ]
  },
  {
   "cell_type": "code",
   "execution_count": 32,
   "metadata": {},
   "outputs": [],
   "source": [
    "#4.2 Készíts egy X és egy y változót. X-ben szerepeljenek az autókhoz tartózó feature-ok, y-ban pedig a hozzájuk tartozó ár.    \n",
    "X = df.drop(columns=['Price'])\n",
    "\n",
    "y = df['Price']"
   ]
  },
  {
   "cell_type": "markdown",
   "metadata": {},
   "source": [
    "### 4.3 feladat"
   ]
  },
  {
   "cell_type": "code",
   "execution_count": 33,
   "metadata": {},
   "outputs": [
    {
     "name": "stdout",
     "output_type": "stream",
     "text": [
      "Tanító adatok mérete: (12012, 15)\n",
      "Teszt adatok mérete: (3003, 15)\n"
     ]
    }
   ],
   "source": [
    "#4.3 Bontsd fel az adathalmazt tanító és teszt részhalmazra. Az adatok 80%-a legyen tanító adat, 20%-a pedig teszt.   \n",
    "from sklearn.model_selection import train_test_split\n",
    "\n",
    "X_train, X_test, y_train, y_test = train_test_split(X, y, test_size=0.2, random_state=42)\n",
    "\n",
    "print(\"Tanító adatok mérete:\", X_train.shape)\n",
    "print(\"Teszt adatok mérete:\", X_test.shape)"
   ]
  },
  {
   "cell_type": "markdown",
   "metadata": {},
   "source": [
    "### 4.4 feladat"
   ]
  },
  {
   "cell_type": "code",
   "execution_count": 34,
   "metadata": {},
   "outputs": [
    {
     "name": "stdout",
     "output_type": "stream",
     "text": [
      "15322   NaN\n",
      "15397   NaN\n",
      "15662   NaN\n",
      "15686   NaN\n",
      "15695   NaN\n",
      "15782   NaN\n",
      "15787   NaN\n",
      "15816   NaN\n",
      "15909   NaN\n",
      "16012   NaN\n",
      "16153   NaN\n",
      "16156   NaN\n",
      "16245   NaN\n",
      "16252   NaN\n",
      "16278   NaN\n",
      "16300   NaN\n",
      "16307   NaN\n",
      "16310   NaN\n",
      "16313   NaN\n",
      "16314   NaN\n",
      "16330   NaN\n",
      "16347   NaN\n",
      "16353   NaN\n",
      "16366   NaN\n",
      "16379   NaN\n",
      "16399   NaN\n",
      "16412   NaN\n",
      "16424   NaN\n",
      "16425   NaN\n",
      "16432   NaN\n",
      "16436   NaN\n",
      "16478   NaN\n",
      "16482   NaN\n",
      "16597   NaN\n",
      "16643   NaN\n",
      "Name: Price, dtype: float64\n",
      "0\n"
     ]
    }
   ],
   "source": [
    "print(y[y.isnull()])\n",
    "# Az árak mediánjának kiszámítása\n",
    "median_price = y.median()\n",
    "\n",
    "# Az NaN értékek kitöltése az árak mediánjával\n",
    "y.fillna(median_price, inplace=True)\n",
    "\n",
    "# Ellenőrizd újra, hogy nincsenek-e NaN értékek az y változóban\n",
    "print(y.isnull().sum())\n"
   ]
  },
  {
   "cell_type": "code",
   "execution_count": 35,
   "metadata": {},
   "outputs": [
    {
     "data": {
      "text/html": [
       "<style>#sk-container-id-2 {\n",
       "  /* Definition of color scheme common for light and dark mode */\n",
       "  --sklearn-color-text: black;\n",
       "  --sklearn-color-line: gray;\n",
       "  /* Definition of color scheme for unfitted estimators */\n",
       "  --sklearn-color-unfitted-level-0: #fff5e6;\n",
       "  --sklearn-color-unfitted-level-1: #f6e4d2;\n",
       "  --sklearn-color-unfitted-level-2: #ffe0b3;\n",
       "  --sklearn-color-unfitted-level-3: chocolate;\n",
       "  /* Definition of color scheme for fitted estimators */\n",
       "  --sklearn-color-fitted-level-0: #f0f8ff;\n",
       "  --sklearn-color-fitted-level-1: #d4ebff;\n",
       "  --sklearn-color-fitted-level-2: #b3dbfd;\n",
       "  --sklearn-color-fitted-level-3: cornflowerblue;\n",
       "\n",
       "  /* Specific color for light theme */\n",
       "  --sklearn-color-text-on-default-background: var(--sg-text-color, var(--theme-code-foreground, var(--jp-content-font-color1, black)));\n",
       "  --sklearn-color-background: var(--sg-background-color, var(--theme-background, var(--jp-layout-color0, white)));\n",
       "  --sklearn-color-border-box: var(--sg-text-color, var(--theme-code-foreground, var(--jp-content-font-color1, black)));\n",
       "  --sklearn-color-icon: #696969;\n",
       "\n",
       "  @media (prefers-color-scheme: dark) {\n",
       "    /* Redefinition of color scheme for dark theme */\n",
       "    --sklearn-color-text-on-default-background: var(--sg-text-color, var(--theme-code-foreground, var(--jp-content-font-color1, white)));\n",
       "    --sklearn-color-background: var(--sg-background-color, var(--theme-background, var(--jp-layout-color0, #111)));\n",
       "    --sklearn-color-border-box: var(--sg-text-color, var(--theme-code-foreground, var(--jp-content-font-color1, white)));\n",
       "    --sklearn-color-icon: #878787;\n",
       "  }\n",
       "}\n",
       "\n",
       "#sk-container-id-2 {\n",
       "  color: var(--sklearn-color-text);\n",
       "}\n",
       "\n",
       "#sk-container-id-2 pre {\n",
       "  padding: 0;\n",
       "}\n",
       "\n",
       "#sk-container-id-2 input.sk-hidden--visually {\n",
       "  border: 0;\n",
       "  clip: rect(1px 1px 1px 1px);\n",
       "  clip: rect(1px, 1px, 1px, 1px);\n",
       "  height: 1px;\n",
       "  margin: -1px;\n",
       "  overflow: hidden;\n",
       "  padding: 0;\n",
       "  position: absolute;\n",
       "  width: 1px;\n",
       "}\n",
       "\n",
       "#sk-container-id-2 div.sk-dashed-wrapped {\n",
       "  border: 1px dashed var(--sklearn-color-line);\n",
       "  margin: 0 0.4em 0.5em 0.4em;\n",
       "  box-sizing: border-box;\n",
       "  padding-bottom: 0.4em;\n",
       "  background-color: var(--sklearn-color-background);\n",
       "}\n",
       "\n",
       "#sk-container-id-2 div.sk-container {\n",
       "  /* jupyter's `normalize.less` sets `[hidden] { display: none; }`\n",
       "     but bootstrap.min.css set `[hidden] { display: none !important; }`\n",
       "     so we also need the `!important` here to be able to override the\n",
       "     default hidden behavior on the sphinx rendered scikit-learn.org.\n",
       "     See: https://github.com/scikit-learn/scikit-learn/issues/21755 */\n",
       "  display: inline-block !important;\n",
       "  position: relative;\n",
       "}\n",
       "\n",
       "#sk-container-id-2 div.sk-text-repr-fallback {\n",
       "  display: none;\n",
       "}\n",
       "\n",
       "div.sk-parallel-item,\n",
       "div.sk-serial,\n",
       "div.sk-item {\n",
       "  /* draw centered vertical line to link estimators */\n",
       "  background-image: linear-gradient(var(--sklearn-color-text-on-default-background), var(--sklearn-color-text-on-default-background));\n",
       "  background-size: 2px 100%;\n",
       "  background-repeat: no-repeat;\n",
       "  background-position: center center;\n",
       "}\n",
       "\n",
       "/* Parallel-specific style estimator block */\n",
       "\n",
       "#sk-container-id-2 div.sk-parallel-item::after {\n",
       "  content: \"\";\n",
       "  width: 100%;\n",
       "  border-bottom: 2px solid var(--sklearn-color-text-on-default-background);\n",
       "  flex-grow: 1;\n",
       "}\n",
       "\n",
       "#sk-container-id-2 div.sk-parallel {\n",
       "  display: flex;\n",
       "  align-items: stretch;\n",
       "  justify-content: center;\n",
       "  background-color: var(--sklearn-color-background);\n",
       "  position: relative;\n",
       "}\n",
       "\n",
       "#sk-container-id-2 div.sk-parallel-item {\n",
       "  display: flex;\n",
       "  flex-direction: column;\n",
       "}\n",
       "\n",
       "#sk-container-id-2 div.sk-parallel-item:first-child::after {\n",
       "  align-self: flex-end;\n",
       "  width: 50%;\n",
       "}\n",
       "\n",
       "#sk-container-id-2 div.sk-parallel-item:last-child::after {\n",
       "  align-self: flex-start;\n",
       "  width: 50%;\n",
       "}\n",
       "\n",
       "#sk-container-id-2 div.sk-parallel-item:only-child::after {\n",
       "  width: 0;\n",
       "}\n",
       "\n",
       "/* Serial-specific style estimator block */\n",
       "\n",
       "#sk-container-id-2 div.sk-serial {\n",
       "  display: flex;\n",
       "  flex-direction: column;\n",
       "  align-items: center;\n",
       "  background-color: var(--sklearn-color-background);\n",
       "  padding-right: 1em;\n",
       "  padding-left: 1em;\n",
       "}\n",
       "\n",
       "\n",
       "/* Toggleable style: style used for estimator/Pipeline/ColumnTransformer box that is\n",
       "clickable and can be expanded/collapsed.\n",
       "- Pipeline and ColumnTransformer use this feature and define the default style\n",
       "- Estimators will overwrite some part of the style using the `sk-estimator` class\n",
       "*/\n",
       "\n",
       "/* Pipeline and ColumnTransformer style (default) */\n",
       "\n",
       "#sk-container-id-2 div.sk-toggleable {\n",
       "  /* Default theme specific background. It is overwritten whether we have a\n",
       "  specific estimator or a Pipeline/ColumnTransformer */\n",
       "  background-color: var(--sklearn-color-background);\n",
       "}\n",
       "\n",
       "/* Toggleable label */\n",
       "#sk-container-id-2 label.sk-toggleable__label {\n",
       "  cursor: pointer;\n",
       "  display: block;\n",
       "  width: 100%;\n",
       "  margin-bottom: 0;\n",
       "  padding: 0.5em;\n",
       "  box-sizing: border-box;\n",
       "  text-align: center;\n",
       "}\n",
       "\n",
       "#sk-container-id-2 label.sk-toggleable__label-arrow:before {\n",
       "  /* Arrow on the left of the label */\n",
       "  content: \"▸\";\n",
       "  float: left;\n",
       "  margin-right: 0.25em;\n",
       "  color: var(--sklearn-color-icon);\n",
       "}\n",
       "\n",
       "#sk-container-id-2 label.sk-toggleable__label-arrow:hover:before {\n",
       "  color: var(--sklearn-color-text);\n",
       "}\n",
       "\n",
       "/* Toggleable content - dropdown */\n",
       "\n",
       "#sk-container-id-2 div.sk-toggleable__content {\n",
       "  max-height: 0;\n",
       "  max-width: 0;\n",
       "  overflow: hidden;\n",
       "  text-align: left;\n",
       "  /* unfitted */\n",
       "  background-color: var(--sklearn-color-unfitted-level-0);\n",
       "}\n",
       "\n",
       "#sk-container-id-2 div.sk-toggleable__content.fitted {\n",
       "  /* fitted */\n",
       "  background-color: var(--sklearn-color-fitted-level-0);\n",
       "}\n",
       "\n",
       "#sk-container-id-2 div.sk-toggleable__content pre {\n",
       "  margin: 0.2em;\n",
       "  border-radius: 0.25em;\n",
       "  color: var(--sklearn-color-text);\n",
       "  /* unfitted */\n",
       "  background-color: var(--sklearn-color-unfitted-level-0);\n",
       "}\n",
       "\n",
       "#sk-container-id-2 div.sk-toggleable__content.fitted pre {\n",
       "  /* unfitted */\n",
       "  background-color: var(--sklearn-color-fitted-level-0);\n",
       "}\n",
       "\n",
       "#sk-container-id-2 input.sk-toggleable__control:checked~div.sk-toggleable__content {\n",
       "  /* Expand drop-down */\n",
       "  max-height: 200px;\n",
       "  max-width: 100%;\n",
       "  overflow: auto;\n",
       "}\n",
       "\n",
       "#sk-container-id-2 input.sk-toggleable__control:checked~label.sk-toggleable__label-arrow:before {\n",
       "  content: \"▾\";\n",
       "}\n",
       "\n",
       "/* Pipeline/ColumnTransformer-specific style */\n",
       "\n",
       "#sk-container-id-2 div.sk-label input.sk-toggleable__control:checked~label.sk-toggleable__label {\n",
       "  color: var(--sklearn-color-text);\n",
       "  background-color: var(--sklearn-color-unfitted-level-2);\n",
       "}\n",
       "\n",
       "#sk-container-id-2 div.sk-label.fitted input.sk-toggleable__control:checked~label.sk-toggleable__label {\n",
       "  background-color: var(--sklearn-color-fitted-level-2);\n",
       "}\n",
       "\n",
       "/* Estimator-specific style */\n",
       "\n",
       "/* Colorize estimator box */\n",
       "#sk-container-id-2 div.sk-estimator input.sk-toggleable__control:checked~label.sk-toggleable__label {\n",
       "  /* unfitted */\n",
       "  background-color: var(--sklearn-color-unfitted-level-2);\n",
       "}\n",
       "\n",
       "#sk-container-id-2 div.sk-estimator.fitted input.sk-toggleable__control:checked~label.sk-toggleable__label {\n",
       "  /* fitted */\n",
       "  background-color: var(--sklearn-color-fitted-level-2);\n",
       "}\n",
       "\n",
       "#sk-container-id-2 div.sk-label label.sk-toggleable__label,\n",
       "#sk-container-id-2 div.sk-label label {\n",
       "  /* The background is the default theme color */\n",
       "  color: var(--sklearn-color-text-on-default-background);\n",
       "}\n",
       "\n",
       "/* On hover, darken the color of the background */\n",
       "#sk-container-id-2 div.sk-label:hover label.sk-toggleable__label {\n",
       "  color: var(--sklearn-color-text);\n",
       "  background-color: var(--sklearn-color-unfitted-level-2);\n",
       "}\n",
       "\n",
       "/* Label box, darken color on hover, fitted */\n",
       "#sk-container-id-2 div.sk-label.fitted:hover label.sk-toggleable__label.fitted {\n",
       "  color: var(--sklearn-color-text);\n",
       "  background-color: var(--sklearn-color-fitted-level-2);\n",
       "}\n",
       "\n",
       "/* Estimator label */\n",
       "\n",
       "#sk-container-id-2 div.sk-label label {\n",
       "  font-family: monospace;\n",
       "  font-weight: bold;\n",
       "  display: inline-block;\n",
       "  line-height: 1.2em;\n",
       "}\n",
       "\n",
       "#sk-container-id-2 div.sk-label-container {\n",
       "  text-align: center;\n",
       "}\n",
       "\n",
       "/* Estimator-specific */\n",
       "#sk-container-id-2 div.sk-estimator {\n",
       "  font-family: monospace;\n",
       "  border: 1px dotted var(--sklearn-color-border-box);\n",
       "  border-radius: 0.25em;\n",
       "  box-sizing: border-box;\n",
       "  margin-bottom: 0.5em;\n",
       "  /* unfitted */\n",
       "  background-color: var(--sklearn-color-unfitted-level-0);\n",
       "}\n",
       "\n",
       "#sk-container-id-2 div.sk-estimator.fitted {\n",
       "  /* fitted */\n",
       "  background-color: var(--sklearn-color-fitted-level-0);\n",
       "}\n",
       "\n",
       "/* on hover */\n",
       "#sk-container-id-2 div.sk-estimator:hover {\n",
       "  /* unfitted */\n",
       "  background-color: var(--sklearn-color-unfitted-level-2);\n",
       "}\n",
       "\n",
       "#sk-container-id-2 div.sk-estimator.fitted:hover {\n",
       "  /* fitted */\n",
       "  background-color: var(--sklearn-color-fitted-level-2);\n",
       "}\n",
       "\n",
       "/* Specification for estimator info (e.g. \"i\" and \"?\") */\n",
       "\n",
       "/* Common style for \"i\" and \"?\" */\n",
       "\n",
       ".sk-estimator-doc-link,\n",
       "a:link.sk-estimator-doc-link,\n",
       "a:visited.sk-estimator-doc-link {\n",
       "  float: right;\n",
       "  font-size: smaller;\n",
       "  line-height: 1em;\n",
       "  font-family: monospace;\n",
       "  background-color: var(--sklearn-color-background);\n",
       "  border-radius: 1em;\n",
       "  height: 1em;\n",
       "  width: 1em;\n",
       "  text-decoration: none !important;\n",
       "  margin-left: 1ex;\n",
       "  /* unfitted */\n",
       "  border: var(--sklearn-color-unfitted-level-1) 1pt solid;\n",
       "  color: var(--sklearn-color-unfitted-level-1);\n",
       "}\n",
       "\n",
       ".sk-estimator-doc-link.fitted,\n",
       "a:link.sk-estimator-doc-link.fitted,\n",
       "a:visited.sk-estimator-doc-link.fitted {\n",
       "  /* fitted */\n",
       "  border: var(--sklearn-color-fitted-level-1) 1pt solid;\n",
       "  color: var(--sklearn-color-fitted-level-1);\n",
       "}\n",
       "\n",
       "/* On hover */\n",
       "div.sk-estimator:hover .sk-estimator-doc-link:hover,\n",
       ".sk-estimator-doc-link:hover,\n",
       "div.sk-label-container:hover .sk-estimator-doc-link:hover,\n",
       ".sk-estimator-doc-link:hover {\n",
       "  /* unfitted */\n",
       "  background-color: var(--sklearn-color-unfitted-level-3);\n",
       "  color: var(--sklearn-color-background);\n",
       "  text-decoration: none;\n",
       "}\n",
       "\n",
       "div.sk-estimator.fitted:hover .sk-estimator-doc-link.fitted:hover,\n",
       ".sk-estimator-doc-link.fitted:hover,\n",
       "div.sk-label-container:hover .sk-estimator-doc-link.fitted:hover,\n",
       ".sk-estimator-doc-link.fitted:hover {\n",
       "  /* fitted */\n",
       "  background-color: var(--sklearn-color-fitted-level-3);\n",
       "  color: var(--sklearn-color-background);\n",
       "  text-decoration: none;\n",
       "}\n",
       "\n",
       "/* Span, style for the box shown on hovering the info icon */\n",
       ".sk-estimator-doc-link span {\n",
       "  display: none;\n",
       "  z-index: 9999;\n",
       "  position: relative;\n",
       "  font-weight: normal;\n",
       "  right: .2ex;\n",
       "  padding: .5ex;\n",
       "  margin: .5ex;\n",
       "  width: min-content;\n",
       "  min-width: 20ex;\n",
       "  max-width: 50ex;\n",
       "  color: var(--sklearn-color-text);\n",
       "  box-shadow: 2pt 2pt 4pt #999;\n",
       "  /* unfitted */\n",
       "  background: var(--sklearn-color-unfitted-level-0);\n",
       "  border: .5pt solid var(--sklearn-color-unfitted-level-3);\n",
       "}\n",
       "\n",
       ".sk-estimator-doc-link.fitted span {\n",
       "  /* fitted */\n",
       "  background: var(--sklearn-color-fitted-level-0);\n",
       "  border: var(--sklearn-color-fitted-level-3);\n",
       "}\n",
       "\n",
       ".sk-estimator-doc-link:hover span {\n",
       "  display: block;\n",
       "}\n",
       "\n",
       "/* \"?\"-specific style due to the `<a>` HTML tag */\n",
       "\n",
       "#sk-container-id-2 a.estimator_doc_link {\n",
       "  float: right;\n",
       "  font-size: 1rem;\n",
       "  line-height: 1em;\n",
       "  font-family: monospace;\n",
       "  background-color: var(--sklearn-color-background);\n",
       "  border-radius: 1rem;\n",
       "  height: 1rem;\n",
       "  width: 1rem;\n",
       "  text-decoration: none;\n",
       "  /* unfitted */\n",
       "  color: var(--sklearn-color-unfitted-level-1);\n",
       "  border: var(--sklearn-color-unfitted-level-1) 1pt solid;\n",
       "}\n",
       "\n",
       "#sk-container-id-2 a.estimator_doc_link.fitted {\n",
       "  /* fitted */\n",
       "  border: var(--sklearn-color-fitted-level-1) 1pt solid;\n",
       "  color: var(--sklearn-color-fitted-level-1);\n",
       "}\n",
       "\n",
       "/* On hover */\n",
       "#sk-container-id-2 a.estimator_doc_link:hover {\n",
       "  /* unfitted */\n",
       "  background-color: var(--sklearn-color-unfitted-level-3);\n",
       "  color: var(--sklearn-color-background);\n",
       "  text-decoration: none;\n",
       "}\n",
       "\n",
       "#sk-container-id-2 a.estimator_doc_link.fitted:hover {\n",
       "  /* fitted */\n",
       "  background-color: var(--sklearn-color-fitted-level-3);\n",
       "}\n",
       "</style><div id=\"sk-container-id-2\" class=\"sk-top-container\"><div class=\"sk-text-repr-fallback\"><pre>RandomForestRegressor(random_state=42)</pre><b>In a Jupyter environment, please rerun this cell to show the HTML representation or trust the notebook. <br />On GitHub, the HTML representation is unable to render, please try loading this page with nbviewer.org.</b></div><div class=\"sk-container\" hidden><div class=\"sk-item\"><div class=\"sk-estimator fitted sk-toggleable\"><input class=\"sk-toggleable__control sk-hidden--visually\" id=\"sk-estimator-id-2\" type=\"checkbox\" checked><label for=\"sk-estimator-id-2\" class=\"sk-toggleable__label fitted sk-toggleable__label-arrow fitted\">&nbsp;&nbsp;RandomForestRegressor<a class=\"sk-estimator-doc-link fitted\" rel=\"noreferrer\" target=\"_blank\" href=\"https://scikit-learn.org/1.4/modules/generated/sklearn.ensemble.RandomForestRegressor.html\">?<span>Documentation for RandomForestRegressor</span></a><span class=\"sk-estimator-doc-link fitted\">i<span>Fitted</span></span></label><div class=\"sk-toggleable__content fitted\"><pre>RandomForestRegressor(random_state=42)</pre></div> </div></div></div></div>"
      ],
      "text/plain": [
       "RandomForestRegressor(random_state=42)"
      ]
     },
     "execution_count": 35,
     "metadata": {},
     "output_type": "execute_result"
    }
   ],
   "source": [
    "import pandas as pd\n",
    "from sklearn.ensemble import RandomForestRegressor\n",
    "\n",
    "# Adatok betöltése vagy meghatározása itt (df)\n",
    "\n",
    "# X és y változók létrehozása\n",
    "X = df.drop(\"Price\", axis=1)  # Az X változó tartalmazza az összes funkciót, kivéve az árat\n",
    "y = df[\"Price\"]\n",
    "\n",
    "# Távolítsd el a NaN értékeket tartalmazó sorokat az X és y változókból\n",
    "nan_indices = y[y.isnull()].index\n",
    "if not nan_indices.empty:\n",
    "    X = X.drop(nan_indices)\n",
    "    y = y.drop(nan_indices)\n",
    "\n",
    "# Kategorikus oszlopok átalakítása dummy változókká\n",
    "categorical_columns = X.select_dtypes(include=[\"object\"]).columns\n",
    "X = pd.get_dummies(X, columns=categorical_columns)\n",
    "\n",
    "# Random Forest regresszor létrehozása és tanítása\n",
    "rf_regressor = RandomForestRegressor(random_state=42)\n",
    "rf_regressor.fit(X, y)\n",
    "\n"
   ]
  },
  {
   "cell_type": "markdown",
   "metadata": {},
   "source": [
    "### 4.5 feladat\n",
    "4.5 A RF kívül még milyen más modelt lehetett volna használni? Hogyan kellett volna módosítani az adathalmazunkat?\n",
    "    \n",
    "Lineáris regresszió: A lineáris regresszió egyszerű modell, amely lineáris összefüggéseket keres az előrejelzett változók és a célváltozó között. Ehhez az adathalmazhoz módosítani kellett volna a kategorikus változókat, például az autómárkát és az eladási helyet egy numerikus formátumba, például dummy változókká vagy kategóriák kódolásával.\n",
    "Ridge vagy Lasso regresszió: Ezek a regressziós módszerek a lineáris regressziót bővítik a regularizációval, ami segít az overfitting problémájának kezelésében. Az adathalmazt előzetesen ki kell tisztítani a hiányzó értékektől, és az egyes változókat kódolni kell a modellezéshez.\n",
    "Gradient Boosting regresszió: Ez egy olyan összetett modell, amely a gyenge regressziós modellek (általában döntési fák) sorozatát használja, és ezeket iteratív módon javítja. Az adathalmaz előkészítése hasonló lenne, mint a RandomForestRegressor esetében.\n",
    "Support Vector Machine (SVM) regresszió: Az SVM egy olyan modell, amely megpróbálja megtalálni azt a hiper síkot, amely a legnagyobb távolságra van a két osztály között a bemeneti adatok között. Az SVM alkalmazása során az adathalmazt előzetesen normalizálni kell, és a kategorikus változókat is megfelelő módon kell kezelni."
   ]
  },
  {
   "cell_type": "markdown",
   "metadata": {},
   "source": [
    "# 5. feladat\n",
    "### 5.1 feladat"
   ]
  },
  {
   "cell_type": "markdown",
   "metadata": {},
   "source": [
    "#5.1 Értékeld a modelled teljesítményét és pontosságát.     \n",
    "Mean Absolute Error (MAE): Az abszolút értékek átlagát veszi a becsült értékek és a valós értékek között. Az MAE kifejezi, hogy átlagosan mennyivel tér el a modell becslése a valós értéktől.\n",
    "Mean Squared Error (MSE): Az MSE az átlagos négyzetes eltérést mutatja a becsült értékek és a valós értékek között. Az MSE a kisebb eltéréseket nagyobb súllyal kezeli, mint az MAE.\n",
    "Root Mean Squared Error (RMSE): Az RMSE az MSE négyzetgyöke, így az eredmény az eredeti mértékegységben van, ami jobban interpretálható.\n",
    "R-squared (R^2): Az R^2 azt mutatja, hogy mennyire magyarázza el a modell a célváltozó változékonyságának arányát. Az értéke 0 és 1 között van, ahol 1 azt jelenti, hogy a modell tökéletesen magyarázza el a változékonyságot, és 0 azt jelenti, hogy a modell semmilyen magyarázó erővel nem rendelkezik.\n",
    "Adjusted R-squared: Az R^2 korrigált verziója, amely figyelembe veszi a magyarázó változók számát és a mintaszámot."
   ]
  },
  {
   "cell_type": "markdown",
   "metadata": {},
   "source": [
    "### 5.2 feladat\n",
    "5.2 Milyen lépéseket lehetne még megtenni a jobb pontosság elérése érdekében? 3p\n",
    "\n",
    "Feature Engineering: Lehetséges, hogy néhány új jellemző hozzáadása vagy a meglévő jellemzők módosítása javíthatja a modell teljesítményét. Például, ha vannak olyan jellemzők, amelyek között korreláció van, vagy olyan csoportosítások, amelyeket a modell nem értelmez, akkor ezek az információk beépíthetők az adathalmazba.\n",
    "Hyperparameter Tuning: A modell paramétereinek finomhangolása gyakran javíthatja a modell teljesítményét. Például a random forest esetében a fák száma, a fa mélysége, a megosztások számának korlátozása és más hiperparaméterek beállítása lehet hatékony.\n",
    "Algoritmusváltás: Más gépi tanulási algoritmusokat is kipróbálhatunk, mint például Gradient Boosting, Support Vector Machines vagy Neural Networks. Egyes esetekben ezek az algoritmusok jobban teljesíthetnek, mint a random forest.\n",
    "Feature Selection: Ha sok jellemző van az adathalmazban, a fontos és releváns jellemzők kiválasztása segíthet az overfitting csökkentésében és a modell pontosságának növelésében.\n",
    "Adathalmaz bővítése: További adatok hozzáadása az adathalmazhoz általában segít a modellek általánosításában és pontosságának növelésében.\n",
    "Cross-Validation: A cross-validation alkalmazása segíthet abban, hogy a modellünk reprezentatívabb eredményeket adjon a tanuló és teszt adatok közötti általánosítás tekintetében."
   ]
  },
  {
   "cell_type": "markdown",
   "metadata": {},
   "source": [
    "# 6. feladat\n",
    "### 6.1 feladat"
   ]
  },
  {
   "cell_type": "code",
   "execution_count": 38,
   "metadata": {},
   "outputs": [
    {
     "name": "stdout",
     "output_type": "stream",
     "text": [
      "Fitting 3 folds for each of 50 candidates, totalling 150 fits\n",
      "A legjobb paraméterek: {'n_estimators': 50, 'min_samples_split': 5, 'min_samples_leaf': 1, 'max_features': 'sqrt', 'max_depth': None}\n",
      "A legjobb keresztvalidációs pontosság: 0.7133596950279465\n",
      "RMSE a teszt adathalmazon a legjobb modellel: 16483.79667746638\n"
     ]
    }
   ],
   "source": [
    "from sklearn.model_selection import train_test_split, RandomizedSearchCV\n",
    "from sklearn.ensemble import RandomForestRegressor\n",
    "from sklearn.metrics import mean_squared_error\n",
    "\n",
    "# Adatok felosztása tanító és teszt adathalmazra\n",
    "X_train, X_test, y_train, y_test = train_test_split(X, y, test_size=0.2, random_state=42)\n",
    "\n",
    "# Ha vannak NaN értékek az y változóban, távolítsd el azokat az indexeket az X és y változókból\n",
    "nan_indices = y_train[y_train.isnull()].index\n",
    "if not nan_indices.empty:\n",
    "    X_train = X_train.drop(nan_indices)\n",
    "    y_train = y_train.drop(nan_indices)\n",
    "\n",
    "# Definiáljuk a hiperparaméterek tartományát\n",
    "param_grid = {\n",
    "    'n_estimators': [10, 50, 100, 200],\n",
    "    'max_features': ['sqrt', 'log2'],  # Az 'auto' eltávolítva\n",
    "    'max_depth': [None, 10, 20, 30],\n",
    "    'min_samples_split': [2, 5, 10],\n",
    "    'min_samples_leaf': [1, 2, 4]\n",
    "}\n",
    "\n",
    "# Random Search létrehozása\n",
    "rf_random = RandomizedSearchCV(estimator=RandomForestRegressor(random_state=42),\n",
    "                               param_distributions=param_grid,\n",
    "                               n_iter=50,  # Iterációk számának csökkentése\n",
    "                               cv=3, verbose=2, random_state=42, n_jobs=-1)\n",
    "\n",
    "# Random Search futtatása a modellünkön\n",
    "rf_random.fit(X_train, y_train)\n",
    "\n",
    "# A legjobb paraméterek kinyomtatása\n",
    "print(\"A legjobb paraméterek:\", rf_random.best_params_)\n",
    "\n",
    "# A legjobb pontosság kinyomtatása\n",
    "print(\"A legjobb keresztvalidációs pontosság:\", rf_random.best_score_)\n",
    "\n",
    "# Legjobb modell értékelése a teszt adathalmazon\n",
    "best_model = rf_random.best_estimator_\n",
    "y_pred = best_model.predict(X_test)\n",
    "mse = mean_squared_error(y_test, y_pred)\n",
    "rmse = mse ** 0.5\n",
    "print(\"RMSE a teszt adathalmazon a legjobb modellel:\", rmse)\n",
    "\n"
   ]
  }
 ],
 "metadata": {
  "kernelspec": {
   "display_name": "Python 3",
   "language": "python",
   "name": "python3"
  },
  "language_info": {
   "codemirror_mode": {
    "name": "ipython",
    "version": 3
   },
   "file_extension": ".py",
   "mimetype": "text/x-python",
   "name": "python",
   "nbconvert_exporter": "python",
   "pygments_lexer": "ipython3",
   "version": "3.12.2"
  }
 },
 "nbformat": 4,
 "nbformat_minor": 2
}
